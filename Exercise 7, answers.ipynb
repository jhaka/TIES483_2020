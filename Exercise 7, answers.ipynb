{
 "cells": [
  {
   "cell_type": "markdown",
   "metadata": {
    "slideshow": {
     "slide_type": "slide"
    }
   },
   "source": [
    "# Exercise 7, answers"
   ]
  },
  {
   "cell_type": "markdown",
   "metadata": {
    "slideshow": {
     "slide_type": "slide"
    }
   },
   "source": [
    "## Problem 1"
   ]
  },
  {
   "cell_type": "markdown",
   "metadata": {
    "slideshow": {
     "slide_type": "slide"
    }
   },
   "source": [
    "## Part a)"
   ]
  },
  {
   "cell_type": "markdown",
   "metadata": {},
   "source": [
    "Let's assume that a solution $x^*$ is an optimal solution to the achievement scalarizing problem, but it is not Pareto optimal. "
   ]
  },
  {
   "cell_type": "markdown",
   "metadata": {},
   "source": [
    "If $x^*$ is not Pareto optimal, then there exists $x'\\in S$ such that\n",
    "$$\n",
    "\\left\\{\n",
    "\\begin{align}\n",
    "f_i(x')\\leq f_i(x^*) \\text{ for all }i=1,\\ldots,k,\\text{ and}\\\\\n",
    "f_j(x')< f_j(x^*) \\text{ for some }j=1,\\ldots,k.\n",
    "\\end{align}\n",
    "\\right.\n",
    "$$"
   ]
  },
  {
   "cell_type": "markdown",
   "metadata": {},
   "source": [
    "Now,\n",
    "$$\n",
    "\\max_{i=1}^k(f_i(x^*)-z^{ref}_i)+\\rho\\sum_{i=1}^kf_i(x^*) \\geq \\max_{i=1}^k(f_i(x')-z^{ref}_i)+\\rho\\sum_{i=1}^kf_i(x^*)\\\\\n",
    ">  \\max_{i=1}^k(f_i(x')-z^{ref}_i)+\\rho\\sum_{i=1}^kf_i(x')\n",
    "$$\n",
    "where we used just the first inequality first, and then we used the previous proof from weighting method."
   ]
  },
  {
   "cell_type": "markdown",
   "metadata": {},
   "source": [
    "This means again that if the solution $x^*$ is not Pareto optimal, then it cannot be an optimal solution to the achievement scalarizing function."
   ]
  },
  {
   "cell_type": "markdown",
   "metadata": {
    "slideshow": {
     "slide_type": "slide"
    }
   },
   "source": [
    "## Part b)"
   ]
  },
  {
   "cell_type": "markdown",
   "metadata": {},
   "source": [
    "Assume a Pareto optimal $x^*$. Now, we choose $z^{ref} = f(x^*)$. Let's have any solutions $x\\in S$. Then,\n",
    "$$\n",
    "\\max_{i=1\\ldots,k}(f_i(x)-z_i^{ref})+\\rho\\sum_{i=1}^kf_i(x) = \\max_{i=1\\ldots,k}(f_i(x)-f_i(x^*))\\\\\n",
    "\\geq 0,\n",
    "$$\n",
    "because $\\rho=0$ and $x^*$ is Pareto optimal and, thus, at least one of the objectives needs to be greater or equal (if this was not the case, the solution $x^*$ would not be Pareto optimal).\n",
    "\n",
    "But now,\n",
    "$$\n",
    "\\max_{i=1\\ldots,k}(f_i(x^*)-z_i^{ref})+\\rho\\sum_{i=1}^kf_i(x^*)= \\max_{i=1\\ldots,k}(f_i(x^*)-f_i(x^*))+\\rho\\sum_{i=1}^kf_i(x^*) \\\\\n",
    "= 0\n",
    "$$\n",
    "trivially. This means that the Pareto optimal solution $x^*$ is an optimal solution to the achievement scalarizing problem. "
   ]
  },
  {
   "cell_type": "markdown",
   "metadata": {},
   "source": [
    "## Problem 4"
   ]
  },
  {
   "cell_type": "code",
   "execution_count": 21,
   "metadata": {},
   "outputs": [
    {
     "name": "stdout",
     "output_type": "stream",
     "text": [
      "===========================================================================\n",
      " BARON version 19.12.7. Built: WIN-64 Sat Dec 7 15:08:51 EST 2019 \n",
      "\n",
      " BARON is a product of The Optimization Firm.\n",
      " For information on BARON, see https://minlp.com/about-baron\n",
      " No BARON license file found in user PATH.  Continuing in demo mode.\n",
      " Model size is allowable within BARON demo size.\n",
      "\n",
      " If you use this software, please cite publications from\n",
      " https://minlp.com/baron-publications, such as: \n",
      "\n",
      " Khajavirad, A. and N. V. Sahinidis,\n",
      " A hybrid LP/NLP paradigm for global optimization relaxations,\n",
      " Mathematical Programming Computation, 10, 383-421, 2018.\n",
      "===========================================================================\n",
      " This BARON run may utilize the following subsolver(s)\n",
      " For LP/MIP/QP: ILOG CPLEX                                      \n",
      " For NLP: IPOPT, FILTERSD, FILTERSQP\n",
      "===========================================================================\n",
      " Doing local search\n",
      " Unable to find/load CPLEX library cplex12100.dll.\n",
      " Using CPLEX library cplex1290.dll.\n",
      " Preprocessing found feasible solution with value 0.693147180560     \n",
      " Problem solved during preprocessing\n",
      " Lower bound is 0.693146180560     \n",
      "\n",
      " Cleaning up\n",
      "\n",
      "                         *** Normal completion ***            \n",
      "\n",
      " Wall clock time:                     0.04\n",
      " Total CPU time used:                 0.00\n",
      "\n",
      " Total no. of BaR iterations:      -1\n",
      " Best solution found at node:      -1\n",
      " Max. no. of nodes in memory:       0\n",
      " \n",
      " All done\n",
      "===========================================================================\n",
      "Optimal solutions is \n",
      "x : Size=3, Index=x_index\n",
      "    Key : Lower : Value : Upper : Fixed : Stale : Domain\n",
      "      1 :  None :   1.0 :  None : False : False :  Reals\n",
      "      2 :  None :   0.0 :  None : False : False :  Reals\n",
      "      3 :  None :   0.0 :  None : False : False :  Reals\n",
      "Objective value at the optimal solution is \n",
      "OBJ : Size=1, Index=None, Active=True\n",
      "    Key  : Active : Value\n",
      "    None :   True : 0.6931471805599453\n"
     ]
    }
   ],
   "source": [
    "# Using Pyomo, optimal solution is x*=(1,0,0)\n",
    "# x3 not in the constraints and because x1 => 0, we have x3=0\n",
    "# since x2**4 is always positive, x2=0\n",
    "# from the constraint it follows that x1**3 => 1 and we get x1=1\n",
    "\n",
    "from pyomo.environ import *\n",
    "\n",
    "model = ConcreteModel()\n",
    "#Three variables\n",
    "model.x = Var([1,2,3])\n",
    "#Objective function including powers and logarithm\n",
    "model.OBJ = Objective(expr = log(model.x[1]**2+1)+model.x[2]**4\n",
    "                      +model.x[1]*model.x[3]) #Objective function\n",
    "model.constr = Constraint(expr = model.x[1]**3-model.x[2]**2>=1)\n",
    "model.box1 = Constraint(expr = model.x[1]>=0)\n",
    "model.box2 = Constraint(expr = model.x[3]>=0)\n",
    "\n",
    "from pyomo.opt import SolverFactory #Import interfaces to solvers\n",
    "\n",
    "opt = SolverFactory(\"baron\") #Use baron\n",
    "#opt = SolverFactory(\"ipopt\") #Use ipopt\n",
    "\n",
    "res = opt.solve(model, tee=True) #Solve the  problem and print the output\n",
    "\n",
    "print(\"Optimal solutions is \")\n",
    "model.x.display()\n",
    "print(\"Objective value at the optimal solution is \")\n",
    "model.OBJ.display()"
   ]
  },
  {
   "cell_type": "code",
   "execution_count": 4,
   "metadata": {},
   "outputs": [],
   "source": [
    "#Another way by a using penalty function method for comparison\n",
    "import numpy as np\n",
    "def f_constrained(x):\n",
    "    return np.log(x[0]**2+1)+x[1]**4+x[0]*x[2],[x[0]**3-x[1]**2-1,x[0],x[2]],[]"
   ]
  },
  {
   "cell_type": "code",
   "execution_count": 5,
   "metadata": {},
   "outputs": [],
   "source": [
    "def alpha(x,f):\n",
    "    (_,ieq,eq) = f(x)\n",
    "    return sum([min([0,ieq_j])**2 for ieq_j in ieq])+sum([eq_k**2 for eq_k in eq])"
   ]
  },
  {
   "cell_type": "code",
   "execution_count": 6,
   "metadata": {},
   "outputs": [],
   "source": [
    "def penalized_function(x,f,r):\n",
    "    return f(x)[0] + r*alpha(x,f)"
   ]
  },
  {
   "cell_type": "code",
   "execution_count": 7,
   "metadata": {},
   "outputs": [
    {
     "name": "stdout",
     "output_type": "stream",
     "text": [
      "[ 1.00003297e+00 -9.67861107e-03  1.27419273e-04] 268435456\n",
      "(0.6933075877345735, [5.252524006182924e-06, 1.0000329749246948, 0.0001274192731967655], [])\n"
     ]
    }
   ],
   "source": [
    "from scipy.optimize import minimize\n",
    "r = 1\n",
    "# add multiple random starting points\n",
    "x_start = [-10,-3,-5]\n",
    "x_old = np.array([float('inf')]*3)\n",
    "x_new = x_start\n",
    "while np.linalg.norm(x_new-x_old)>0.000001:\n",
    "    res = minimize(lambda x:penalized_function(x,f_constrained,r),\n",
    "               x_start,method='Nelder-Mead')\n",
    "    x_old = x_new\n",
    "    x_new = np.array(res.x)\n",
    "    r = 2*r #r+1\n",
    "print(x_new, r)\n",
    "print(f_constrained(x_new))"
   ]
  },
  {
   "cell_type": "markdown",
   "metadata": {},
   "source": [
    "**Analysis:** Optimal solution is $x^*=(1,0,0)$ because\n",
    "* $x_3$ not in the constraints and because $x_1 \\geq 0$, we have $x_3=0$\n",
    "* since $x_2^4$ is always positive, $x_2=0$\n",
    "* from the constraint it follows that $x_1^3 \\geq 1$ and we get $x_1=1$\n",
    "\n",
    "*Based on the results, we can say that Baron was able to find a correct optimal solution. Also, the penalty function method found the same solution.*\n"
   ]
  },
  {
   "cell_type": "markdown",
   "metadata": {},
   "source": [
    "## Pyomo solution for the task 3 of exercise 6"
   ]
  },
  {
   "cell_type": "code",
   "execution_count": 12,
   "metadata": {},
   "outputs": [],
   "source": [
    "# just the norm\n",
    "def prob(x):\n",
    "    return [(x[0]-1)**2+x[1]**2,x[0]**2+(x[1]-1)**2]"
   ]
  },
  {
   "cell_type": "code",
   "execution_count": 13,
   "metadata": {},
   "outputs": [],
   "source": [
    "# just the norm\n",
    "def prob2(x):\n",
    "    return [np.sqrt((x[0]-1)**2+x[1]**2),np.sqrt(x[0]**2+(x[1]-1)**2)]"
   ]
  },
  {
   "cell_type": "code",
   "execution_count": 14,
   "metadata": {},
   "outputs": [],
   "source": [
    "from pyomo.environ import *\n",
    "from pyomo.opt import SolverFactory #Import interfaces to solvers\n",
    "\n",
    "def weighting_method_pyomo(f,w):\n",
    "    points = []\n",
    "    for wi in w:\n",
    "        model = ConcreteModel()\n",
    "        model.x = Var([0,1])\n",
    "        #weighted sum\n",
    "        model.obj = Objective(expr = wi[0]*f(model.x)[0]+wi[1]*f(model.x)[1])\n",
    "        opt = SolverFactory(\"ipopt\") #Use ipopt\n",
    "        #Combination of expression and function\n",
    "        res=opt.solve(model) #Solve the problem\n",
    "        points.append([model.x[0].value,model.x[1].value]) #We should check for optimality...\n",
    "    return points"
   ]
  },
  {
   "cell_type": "code",
   "execution_count": 15,
   "metadata": {},
   "outputs": [],
   "source": [
    "import numpy as np\n",
    "w = np.random.random((500,2)) #500 random weights\n",
    "repr = weighting_method_pyomo(prob,w)"
   ]
  },
  {
   "cell_type": "markdown",
   "metadata": {},
   "source": [
    "**Plot the solutions in the objective space**"
   ]
  },
  {
   "cell_type": "code",
   "execution_count": 16,
   "metadata": {},
   "outputs": [],
   "source": [
    "import matplotlib.pyplot as plt\n",
    "def visualize_representation(func,repr):\n",
    "    f_repr_ws = [prob(repri) for repri in repr]\n",
    "    fig = plt.figure()\n",
    "    plt.scatter([z[0] for z in f_repr_ws],[z[1] for z in f_repr_ws])\n",
    "    return plt"
   ]
  },
  {
   "cell_type": "code",
   "execution_count": 17,
   "metadata": {},
   "outputs": [
    {
     "data": {
      "text/plain": [
       "<module 'matplotlib.pyplot' from 'C:\\\\Devel\\\\Anaconda3\\\\lib\\\\site-packages\\\\matplotlib\\\\pyplot.py'>"
      ]
     },
     "execution_count": 17,
     "metadata": {},
     "output_type": "execute_result"
    },
    {
     "data": {
      "image/png": "[encoded data removed]",
      "text/plain": [
       "<Figure size 432x288 with 1 Axes>"
      ]
     },
     "metadata": {
      "needs_background": "light"
     },
     "output_type": "display_data"
    }
   ],
   "source": [
    "visualize_representation(prob2,repr)"
   ]
  },
  {
   "cell_type": "markdown",
   "metadata": {},
   "source": [
    "**Plot the solutions in the decision space**"
   ]
  },
  {
   "cell_type": "code",
   "execution_count": 18,
   "metadata": {},
   "outputs": [],
   "source": [
    "import matplotlib.pyplot as plt\n",
    "def visualize_decisions(repr):\n",
    "    fig = plt.figure()\n",
    "    plt.scatter([x[0] for x in repr],[x[1] for x in repr])\n",
    "    return plt"
   ]
  },
  {
   "cell_type": "code",
   "execution_count": 22,
   "metadata": {},
   "outputs": [
    {
     "name": "stdout",
     "output_type": "stream",
     "text": [
      "<class 'list'>\n"
     ]
    },
    {
     "data": {
      "image/png": "[encoded data removed]",
      "text/plain": [
       "<Figure size 432x288 with 1 Axes>"
      ]
     },
     "metadata": {
      "needs_background": "light"
     },
     "output_type": "display_data"
    }
   ],
   "source": [
    "print(type(repr))\n",
    "visualize_decisions(repr).show()"
   ]
  }
 ],
 "metadata": {
  "celltoolbar": "Slideshow",
  "kernelspec": {
   "display_name": "Python 3",
   "language": "python",
   "name": "python3"
  },
  "language_info": {
   "codemirror_mode": {
    "name": "ipython",
    "version": 3
   },
   "file_extension": ".py",
   "mimetype": "text/x-python",
   "name": "python",
   "nbconvert_exporter": "python",
   "pygments_lexer": "ipython3",
   "version": "3.7.0"
  }
 },
 "nbformat": 4,
 "nbformat_minor": 1
}
